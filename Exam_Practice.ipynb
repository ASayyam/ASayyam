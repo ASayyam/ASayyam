{
  "nbformat": 4,
  "nbformat_minor": 0,
  "metadata": {
    "colab": {
      "provenance": [],
      "gpuType": "T4",
      "authorship_tag": "ABX9TyOg2FNWqvJB0dE5IHKDYc+H",
      "include_colab_link": true
    },
    "kernelspec": {
      "name": "python3",
      "display_name": "Python 3"
    },
    "language_info": {
      "name": "python"
    },
    "accelerator": "GPU"
  },
  "cells": [
    {
      "cell_type": "markdown",
      "metadata": {
        "id": "view-in-github",
        "colab_type": "text"
      },
      "source": [
        "<a href=\"https://colab.research.google.com/github/ASayyam/ASayyam/blob/main/Exam_Practice.ipynb\" target=\"_parent\"><img src=\"https://colab.research.google.com/assets/colab-badge.svg\" alt=\"Open In Colab\"/></a>"
      ]
    },
    {
      "cell_type": "code",
      "execution_count": null,
      "metadata": {
        "id": "yzpjc25TUZfk"
      },
      "outputs": [],
      "source": [
        "print(\"hello from google colab\")"
      ]
    },
    {
      "cell_type": "code",
      "source": [
        "print(\"hello from the second file\")"
      ],
      "metadata": {
        "id": "Vwpx1PTiUmd4"
      },
      "execution_count": null,
      "outputs": []
    },
    {
      "cell_type": "code",
      "source": [
        "from google.colab import files\n",
        "uploaded = files.upload()\n"
      ],
      "metadata": {
        "id": "zro4-AhCOSzv"
      },
      "execution_count": null,
      "outputs": []
    },
    {
      "cell_type": "code",
      "source": [
        "import pandas as pd\n",
        "df=pd.read_csv(\"sample_data/minst_test.csv\")\n",
        "df.head(10)\n"
      ],
      "metadata": {
        "id": "1kgjRPjQOcuQ"
      },
      "execution_count": null,
      "outputs": []
    },
    {
      "cell_type": "markdown",
      "source": [
        "# Pandas\n"
      ],
      "metadata": {
        "id": "FSkOQzMVPQjf"
      }
    },
    {
      "cell_type": "code",
      "source": [
        "import pandas as pd\n",
        "df=pd.read_csv(\"sample_data/mnist_test.csv\")\n",
        "df.head(10)"
      ],
      "metadata": {
        "id": "-TJvH4dAP5Jf"
      },
      "execution_count": null,
      "outputs": []
    },
    {
      "cell_type": "code",
      "source": [
        "print(\"hello world\")"
      ],
      "metadata": {
        "id": "t2xtQWp1bFji"
      },
      "execution_count": null,
      "outputs": []
    },
    {
      "cell_type": "markdown",
      "source": [],
      "metadata": {
        "id": "qzig3b1NiwwU"
      }
    },
    {
      "cell_type": "code",
      "source": [
        "import pandas as pd\n",
        "df=pd.read_csv(\"sample_data/mnist_test.csv\")\n",
        "df.head(5)"
      ],
      "metadata": {
        "id": "DYCQgRW2bvuK"
      },
      "execution_count": null,
      "outputs": []
    },
    {
      "cell_type": "code",
      "source": [
        "print(\"Asma\")"
      ],
      "metadata": {
        "id": "Gak7k8EWkHs-"
      },
      "execution_count": null,
      "outputs": []
    },
    {
      "cell_type": "markdown",
      "source": [
        "*import pandas as pd\n",
        "df=pd.read_csv(\"sample_data/mnist_test.csv\")\n",
        "df.head(10)*"
      ],
      "metadata": {
        "id": "U0hJVutPkLqg"
      }
    },
    {
      "cell_type": "markdown",
      "source": [
        "- asma\n",
        "- sara\n",
        "\n",
        "1. asma"
      ],
      "metadata": {
        "id": "uumXXEsulMeV"
      }
    },
    {
      "cell_type": "markdown",
      "source": [
        "## This is *information* about **Pakistan**"
      ],
      "metadata": {
        "id": "c7x34RVflLlc"
      }
    },
    {
      "cell_type": "code",
      "source": [
        "\n",
        "import tensorflow as tf\n",
        "print(\"Num GPUs Available: \", len(tf.config.experimental.list_physical_devices('GPU')))"
      ],
      "metadata": {
        "id": "l3sl1qqBl5Cs"
      },
      "execution_count": null,
      "outputs": []
    },
    {
      "cell_type": "code",
      "source": [
        "from google.colab import files\n",
        "files.download('mnist_test.csv')"
      ],
      "metadata": {
        "id": "XfGOjrl0m8lF"
      },
      "execution_count": null,
      "outputs": []
    },
    {
      "cell_type": "code",
      "source": [
        "from google.colab import files\n",
        "files.download('sample_data/mnist_train_small.csv')"
      ],
      "metadata": {
        "id": "HMIQS2AirqpY"
      },
      "execution_count": null,
      "outputs": []
    },
    {
      "cell_type": "code",
      "source": [
        "from google.colab import drive\n",
        "drive.mount('/content/drive')"
      ],
      "metadata": {
        "id": "fyVi6Wi6skSn"
      },
      "execution_count": null,
      "outputs": []
    },
    {
      "cell_type": "code",
      "source": [
        "!git clone https://github.com/abubaker798/SMS"
      ],
      "metadata": {
        "id": "TBUwvkahu7mi"
      },
      "execution_count": null,
      "outputs": []
    },
    {
      "cell_type": "code",
      "source": [
        "!python manage.py"
      ],
      "metadata": {
        "id": "blxv-4dJwuEG"
      },
      "execution_count": null,
      "outputs": []
    },
    {
      "cell_type": "code",
      "source": [
        "!apt-get install git-lfs\n",
        "!git lfs install\n",
        "!git lfs pull\n"
      ],
      "metadata": {
        "id": "bgwEaL5IyKYQ"
      },
      "execution_count": null,
      "outputs": []
    },
    {
      "cell_type": "code",
      "source": [
        "%cd SMS\n"
      ],
      "metadata": {
        "id": "x_lkqwp8zYdF"
      },
      "execution_count": null,
      "outputs": []
    },
    {
      "cell_type": "code",
      "source": [
        "!ls\n"
      ],
      "metadata": {
        "id": "NH2dJiCjzdwo"
      },
      "execution_count": null,
      "outputs": []
    },
    {
      "cell_type": "code",
      "source": [
        "import pandas as pd\n",
        "\n",
        "df = pd.read_csv(\"Electronics-1204.csv\")\n",
        "df.head()\n"
      ],
      "metadata": {
        "id": "kbD95OMxzhRZ"
      },
      "execution_count": null,
      "outputs": []
    },
    {
      "cell_type": "code",
      "source": [
        "!cat Project/models.py\n"
      ],
      "metadata": {
        "id": "nCwfN3c_zwkS"
      },
      "execution_count": null,
      "outputs": []
    },
    {
      "cell_type": "code",
      "source": [
        "!python manage.py runserver\n"
      ],
      "metadata": {
        "id": "xt0Z4OdT0ftv"
      },
      "execution_count": null,
      "outputs": []
    },
    {
      "cell_type": "code",
      "source": [
        "import pandas as pd\n",
        "url = 'https://docs.google.com/spreadsheets/d/e/2PACX-.../pub?output=csv'\n",
        "sheet = pd.read_csv(url)"
      ],
      "metadata": {
        "id": "DUc113Le0m2q"
      },
      "execution_count": null,
      "outputs": []
    },
    {
      "cell_type": "code",
      "source": [
        "# pandas sirf csv files ko read krta hy na k http ki google drive ki files ko\n",
        "\n",
        "import pandas as pd\n",
        "\n",
        "url = 'https://docs.google.com/spreadsheets/d/e/2PACX-1vQ8BrJVGssCIspkJnsgZ8Tn2HKCI9C9mn0bR8is0DW9OFdU2oL2oMmfRGLlJvHUozwdtiIEtoGtaNUa/pub?output=csv'\n",
        "df = pd.read_csv(url)\n",
        "print(df.head())\n"
      ],
      "metadata": {
        "id": "uhtB9I9F06E6"
      },
      "execution_count": null,
      "outputs": []
    },
    {
      "cell_type": "code",
      "source": [
        "\n",
        "\n"
      ],
      "metadata": {
        "id": "EJp3kw-V287-"
      },
      "execution_count": null,
      "outputs": []
    }
  ]
}